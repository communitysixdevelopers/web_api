{
 "cells": [
  {
   "cell_type": "code",
   "execution_count": 1,
   "metadata": {},
   "outputs": [],
   "source": [
    "from troll_api import FindTrollApi"
   ]
  },
  {
   "cell_type": "code",
   "execution_count": 2,
   "metadata": {},
   "outputs": [],
   "source": [
    "api = FindTrollApi(url_to_server='http://troll-detector.ru', key_api=\"qwerty\")"
   ]
  },
  {
   "cell_type": "code",
   "execution_count": 3,
   "metadata": {},
   "outputs": [
    {
     "output_type": "execute_result",
     "data": {
      "text/plain": [
       "{'counts_interpr_left': 995,\n",
       " 'counts_link_left': 999,\n",
       " 'counts_proba_left': 9999,\n",
       " 'key_api': 'qwerty',\n",
       " 'tarif': 'base'}"
      ]
     },
     "metadata": {},
     "execution_count": 3
    }
   ],
   "source": [
    "# Проверка данных пользователя\n",
    "api.get_user_api_status()"
   ]
  },
  {
   "cell_type": "code",
   "execution_count": 4,
   "metadata": {},
   "outputs": [
    {
     "output_type": "execute_result",
     "data": {
      "text/plain": [
       "{'answer': 'Никто точно не знает',\n",
       " 'class': 0,\n",
       " 'key_api': 'qwerty',\n",
       " 'log': {'comment': 'OK',\n",
       "  'count_available_query': {'interpretation': 995,\n",
       "   'link': 999,\n",
       "   'probabylity': 9998}},\n",
       " 'proba': 0.394,\n",
       " 'question': 'Когда закончится эпидемия коронавируса?',\n",
       " 'treshold': 0.5}"
      ]
     },
     "metadata": {},
     "execution_count": 4
    }
   ],
   "source": [
    "# Получение информации по вероятности троллинга при ответе на вопрос\n",
    "api.get_proba(question=\"Когда закончится эпидемия коронавируса?\", answer=\"Никто точно не знает\")"
   ]
  },
  {
   "cell_type": "code",
   "execution_count": 5,
   "metadata": {},
   "outputs": [
    {
     "output_type": "execute_result",
     "data": {
      "text/plain": [
       "{'answer': ['Нет никакой эпидемии. Есть коронабесие.',\n",
       "  'Говорят, что третья волна коронавируса наступит в марте. А можно сразу озвучить, сколько сезонов в этом сериале?',\n",
       "  'В середине лета 2021 года',\n",
       "  'Когда у населения Планеты разовьётся популяционный иммунитет к этой заразе ! \\nКогда это произойдёт - пока сказать невозможно !',\n",
       "  'Не для того народ кошмарят каждый день чтоб прекращать...',\n",
       "  'Когда паникёры успокоятся.',\n",
       "  'Лет 5-10...нужно, чтобы слабые экономики погибли. Те, что останутся, и будут жить...\\nЯ так думаю.',\n",
       "  'Когда истребят нужное количество людей и попилят все деньги.',\n",
       "  'когда иммунитет выработается от болезни или вакцинации',\n",
       "  'Когда она перестанет прибыль ЖИДАМ!!',\n",
       "  'Никогда, он ( вирус) внедряется в чела, мутирует и будет активироватся в сезоны эпидемий ( весна осень), но уже с менее разрушительными последствиями для организма.',\n",
       "  'COVID-19 отныне с человечеством навсегда.',\n",
       "  'Точно не скоро. Читайте: https://transforma1.ru/glavnyjj-ehpidemiolog-shvecii-pandemija-ne-konchitsja-ona-budet-gde-to-rjadom/ Тем более люди до сих пор многие не верят в то, что коронавирус существует и это какой-то там заговор мирового правительства. Поэтому и не соблюдают простых мер личной гигиенической безопасности. С таким подходом пандемия будет продолжаться.'],\n",
       " 'class': [0, 0, 0, 0, 0, 1, 0, 0, 0, 1, 0, 1, 0],\n",
       " 'key_api': 'qwerty',\n",
       " 'link': 'https://otvet.mail.ru/question/222762515',\n",
       " 'log': {'comment': 'OK',\n",
       "  'count_available_query': {'interpretation': 995,\n",
       "   'link': 998,\n",
       "   'probabylity': 9998}},\n",
       " 'parser': 'answers_mail.ru',\n",
       " 'proba': [0.353,\n",
       "  0.358,\n",
       "  0.302,\n",
       "  0.31,\n",
       "  0.441,\n",
       "  0.685,\n",
       "  0.353,\n",
       "  0.356,\n",
       "  0.321,\n",
       "  0.847,\n",
       "  0.358,\n",
       "  0.534,\n",
       "  0.341],\n",
       " 'question': 'Когда закончится эпидемия коронавируса?',\n",
       " 'treshold': 0.5,\n",
       " 'type_parser': 'answers_mail.ru'}"
      ]
     },
     "metadata": {},
     "execution_count": 5
    }
   ],
   "source": [
    "# Получение информации по вероятности при ображении на портал по ссылке\n",
    "api.get_proba_from_link(link=\"https://otvet.mail.ru/question/222762515\")"
   ]
  },
  {
   "cell_type": "code",
   "execution_count": 6,
   "metadata": {},
   "outputs": [
    {
     "output_type": "execute_result",
     "data": {
      "text/plain": [
       "{'answer': 'Когда паникёры успокоятся.',\n",
       " 'key_api': 'qwerty',\n",
       " 'log': {'count_available_query': {'interpretation': 994,\n",
       "   'link': 998,\n",
       "   'probabylity': 9998}},\n",
       " 'n_max_top': 5,\n",
       " 'negative_contribution': {'Вероятность позитивности ответа': 0.147,\n",
       "  'Количество символов в вопросе': 0.189,\n",
       "  'Количество символов в ответе': 0.1,\n",
       "  'Количество слов в ответе': 0.13,\n",
       "  'Остальное': 0.341,\n",
       "  'Эмоциональный тип вопроса': 0.093},\n",
       " 'positive_contribution': {'Вероятность абсолютной негативности ответа': 0.095,\n",
       "  'Вероятность шуточного ответа на вопрос': 0.075,\n",
       "  'Количество слов в вопросе': 0.134,\n",
       "  'Количество стоп-слов в ответе': 0.157,\n",
       "  'Косинусное сходство вопроса и ответа': 0.201,\n",
       "  'Остальное': 0.338},\n",
       " 'question': 'Когда закончится эпидемия коронавируса?'}"
      ]
     },
     "metadata": {},
     "execution_count": 6
    }
   ],
   "source": [
    "# Получение информации по интерпретации при ответе на вопрос\n",
    "api.get_interpretation(\"Когда закончится эпидемия коронавируса?\",\"Когда паникёры успокоятся.\")"
   ]
  },
  {
   "cell_type": "code",
   "execution_count": null,
   "metadata": {},
   "outputs": [],
   "source": []
  }
 ],
 "metadata": {
  "kernelspec": {
   "name": "python3",
   "display_name": "Python 3.8.5 64-bit (conda)",
   "metadata": {
    "interpreter": {
     "hash": "7b4b4feff2f24a0f0a34464dbe537a36fda679851528fb8735cb41fa49dffb2d"
    }
   }
  },
  "language_info": {
   "codemirror_mode": {
    "name": "ipython",
    "version": 3
   },
   "file_extension": ".py",
   "mimetype": "text/x-python",
   "name": "python",
   "nbconvert_exporter": "python",
   "pygments_lexer": "ipython3",
   "version": "3.8.5-final"
  }
 },
 "nbformat": 4,
 "nbformat_minor": 4
}